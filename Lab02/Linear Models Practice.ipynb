{
 "cells": [
  {
   "cell_type": "markdown",
   "id": "ca4cc797",
   "metadata": {},
   "source": [
    "# Linear Models Practice\n",
    "\n",
    "Imagine that you are a consultant that is helping a client predict market value for housing based on different characteristics. \n",
    "\n",
    "The housing data used in this example is taken from [here](https://www.kaggle.com/competitions/house-prices-advanced-regression-techniques/data?select=train.csv)"
   ]
  },
  {
   "cell_type": "code",
   "execution_count": null,
   "id": "5917838c",
   "metadata": {},
   "outputs": [],
   "source": [
    "# import the libraries\n",
    "import numpy as np\n",
    "import pandas as pd\n",
    "import seaborn as sns\n",
    "import matplotlib.pyplot as plt"
   ]
  },
  {
   "cell_type": "code",
   "execution_count": null,
   "id": "eae15061",
   "metadata": {},
   "outputs": [],
   "source": [
    "import warnings\n",
    "warnings.filterwarnings('ignore') #ignoring some deprication warnings"
   ]
  },
  {
   "cell_type": "markdown",
   "id": "5907080a",
   "metadata": {},
   "source": [
    "## Load and prepare the data"
   ]
  },
  {
   "cell_type": "code",
   "execution_count": null,
   "id": "0f0c359c",
   "metadata": {
    "scrolled": true
   },
   "outputs": [],
   "source": [
    "# Load the training data and view the first few rows\n"
   ]
  },
  {
   "cell_type": "code",
   "execution_count": null,
   "id": "a4a02466",
   "metadata": {},
   "outputs": [],
   "source": [
    "# print the shape of the dataset\n"
   ]
  },
  {
   "cell_type": "code",
   "execution_count": null,
   "id": "230c689b",
   "metadata": {},
   "outputs": [],
   "source": [
    "# Check the data types for each column and if there are any missing values\n"
   ]
  },
  {
   "cell_type": "markdown",
   "id": "610e74f7",
   "metadata": {},
   "source": [
    "For now, we don't know how to deal with object (string) columns, so we will remove them."
   ]
  },
  {
   "cell_type": "code",
   "execution_count": null,
   "id": "54a8d0bc",
   "metadata": {},
   "outputs": [],
   "source": [
    "data = data.select_dtypes(exclude=['object'])\n",
    "data.head()"
   ]
  },
  {
   "cell_type": "code",
   "execution_count": null,
   "id": "504f90ac",
   "metadata": {},
   "outputs": [],
   "source": [
    "# Fill in missing values with the average of the column and remove ID column\n"
   ]
  },
  {
   "cell_type": "code",
   "execution_count": null,
   "id": "ada4828c",
   "metadata": {},
   "outputs": [],
   "source": [
    "# Look at basic statistics for the data\n"
   ]
  },
  {
   "cell_type": "code",
   "execution_count": null,
   "id": "51362ab8",
   "metadata": {},
   "outputs": [],
   "source": [
    "# look at the correlation of columns with .corr()\n",
    "corrmat = data.corr()\n",
    "\n",
    "# plot the correlations with sns.heatmap\n",
    "plt.subplots(figsize=(12,9))\n",
    "sns.heatmap(corrmat, vmax=0.9, square=True, cmap='coolwarm')"
   ]
  },
  {
   "cell_type": "markdown",
   "id": "44d8ef6b",
   "metadata": {},
   "source": [
    "Are there any features that are highly correlated with each other? Do they give the same information to the model?\n",
    "\n",
    "What features are highly correlated with the `SalePrice`?"
   ]
  },
  {
   "cell_type": "markdown",
   "id": "3d384bdf",
   "metadata": {},
   "source": [
    "### Create feature matrix and target vector "
   ]
  },
  {
   "cell_type": "code",
   "execution_count": null,
   "id": "beb3856a",
   "metadata": {},
   "outputs": [],
   "source": [
    "# Split training data into feature matrix and target vector"
   ]
  },
  {
   "cell_type": "markdown",
   "id": "8ba985fb",
   "metadata": {},
   "source": [
    "## Apply `LinearRegression()` and evaluate the performance"
   ]
  },
  {
   "cell_type": "code",
   "execution_count": null,
   "id": "7d62225b",
   "metadata": {},
   "outputs": [],
   "source": [
    "# Set up linear regression model object\n"
   ]
  },
  {
   "cell_type": "code",
   "execution_count": null,
   "id": "7a777084",
   "metadata": {},
   "outputs": [],
   "source": [
    "# Implement cross_validate to get R^2 score\n",
    "# Hint: set scoring='r2'\n"
   ]
  },
  {
   "cell_type": "code",
   "execution_count": null,
   "id": "57d927e3",
   "metadata": {},
   "outputs": [],
   "source": [
    "# Use code from example to print average scores\n"
   ]
  },
  {
   "cell_type": "markdown",
   "id": "83edf63d",
   "metadata": {},
   "source": [
    "**Note**: the test data on the website does not include labels (as this data is from a Kaggle competition), so we cannot check the testing accuracy"
   ]
  },
  {
   "cell_type": "markdown",
   "id": "bd0cdd6a",
   "metadata": {},
   "source": [
    "### How to find the model coefficients and intercept?"
   ]
  },
  {
   "cell_type": "code",
   "execution_count": null,
   "id": "55385cb4",
   "metadata": {},
   "outputs": [],
   "source": [
    "# Print the model coefficients and intercept\n",
    "# Hint: you will need to train the model before you can find the coefficients\n"
   ]
  },
  {
   "cell_type": "markdown",
   "id": "c026aee6",
   "metadata": {},
   "source": [
    "Which columns had high coefficients? Low coefficients? How does this relate to the correlation plot?"
   ]
  },
  {
   "cell_type": "code",
   "execution_count": null,
   "id": "2e1d18b6",
   "metadata": {},
   "outputs": [],
   "source": [
    "coef = dict(zip(data.columns,model.coef_))\n",
    "coef"
   ]
  },
  {
   "cell_type": "code",
   "execution_count": null,
   "id": "4a7c5438",
   "metadata": {},
   "outputs": [],
   "source": []
  }
 ],
 "metadata": {
  "kernelspec": {
   "display_name": "Python 3 (ipykernel)",
   "language": "python",
   "name": "python3"
  },
  "language_info": {
   "codemirror_mode": {
    "name": "ipython",
    "version": 3
   },
   "file_extension": ".py",
   "mimetype": "text/x-python",
   "name": "python",
   "nbconvert_exporter": "python",
   "pygments_lexer": "ipython3",
   "version": "3.11.5"
  }
 },
 "nbformat": 4,
 "nbformat_minor": 5
}
